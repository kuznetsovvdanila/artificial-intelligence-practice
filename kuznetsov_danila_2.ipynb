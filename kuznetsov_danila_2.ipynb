{
 "cells": [
  {
   "cell_type": "code",
   "execution_count": 2,
   "metadata": {
    "collapsed": true
   },
   "outputs": [],
   "source": [
    "import numpy as np\n",
    "import pandas as pd\n",
    "import matplotlib as plt"
   ]
  },
  {
   "cell_type": "code",
   "execution_count": 2,
   "outputs": [
    {
     "name": "stdout",
     "output_type": "stream",
     "text": [
      "[[0 1 0 1 0 1 0 1]\n",
      " [1 0 1 0 1 0 1 0]\n",
      " [0 1 0 1 0 1 0 1]\n",
      " [1 0 1 0 1 0 1 0]\n",
      " [0 1 0 1 0 1 0 1]\n",
      " [1 0 1 0 1 0 1 0]\n",
      " [0 1 0 1 0 1 0 1]\n",
      " [1 0 1 0 1 0 1 0]]\n"
     ]
    }
   ],
   "source": [
    "# 1.3.1\n",
    "\n",
    "line = [0 if x % 2 == 0 else 1 for x in range(8)]\n",
    "a = np.array([line if y % 2 == 0 else line[::-1] for y in range(8)])\n",
    "print(a)"
   ],
   "metadata": {
    "collapsed": false
   }
  },
  {
   "cell_type": "code",
   "execution_count": 3,
   "outputs": [
    {
     "name": "stdout",
     "output_type": "stream",
     "text": [
      "[[0 1 2 3 4]\n",
      " [0 1 2 3 4]\n",
      " [0 1 2 3 4]\n",
      " [0 1 2 3 4]\n",
      " [0 1 2 3 4]]\n"
     ]
    }
   ],
   "source": [
    "# 1.3.2\n",
    "\n",
    "a = np.array([np.arange(0, 5) for x in range(5)])\n",
    "print(a)"
   ],
   "metadata": {
    "collapsed": false
   }
  },
  {
   "cell_type": "code",
   "execution_count": 4,
   "outputs": [
    {
     "name": "stdout",
     "output_type": "stream",
     "text": [
      "[[[0.13749516 0.49022164 0.39720783]\n",
      "  [0.94393331 0.50368678 0.99288142]\n",
      "  [0.55783765 0.88847426 0.34757712]]\n",
      "\n",
      " [[0.86693886 0.77611284 0.29198724]\n",
      "  [0.72217799 0.06734753 0.27284672]\n",
      "  [0.71868799 0.86495727 0.89821794]]\n",
      "\n",
      " [[0.55155022 0.04897403 0.44698889]\n",
      "  [0.79658619 0.31765905 0.12161218]\n",
      "  [0.14688176 0.29344999 0.79616903]]]\n"
     ]
    }
   ],
   "source": [
    "# 1.3.3\n",
    "\n",
    "a = np.random.random((3, 3, 3))\n",
    "print(a)"
   ],
   "metadata": {
    "collapsed": false
   }
  },
  {
   "cell_type": "code",
   "execution_count": 5,
   "outputs": [
    {
     "name": "stdout",
     "output_type": "stream",
     "text": [
      "[[1. 0. 0. 1.]\n",
      " [1. 0. 0. 1.]\n",
      " [1. 0. 0. 1.]\n",
      " [1. 0. 0. 1.]]\n"
     ]
    }
   ],
   "source": [
    "# 1.3.4\n",
    "\n",
    "a = np.zeros((4, 4))\n",
    "for i in range(a.shape[0]):\n",
    "    a[i] = np.array([1] + list(a[i][1: -1:]) + [1])\n",
    "print(a)"
   ],
   "metadata": {
    "collapsed": false
   }
  },
  {
   "cell_type": "code",
   "execution_count": 6,
   "outputs": [
    {
     "name": "stdout",
     "output_type": "stream",
     "text": [
      "[0.05731736 0.12974211 0.32356109 0.33062006 0.40674108 0.57742639\n",
      " 0.72842781 0.90747082 0.95323178 0.98428683]\n"
     ]
    }
   ],
   "source": [
    "# 1.3.5\n",
    "\n",
    "a = np.random.random(10)\n",
    "a = np.sort(a)\n",
    "print(a)"
   ],
   "metadata": {
    "collapsed": false
   }
  },
  {
   "cell_type": "code",
   "execution_count": 7,
   "outputs": [
    {
     "name": "stdout",
     "output_type": "stream",
     "text": [
      "[[0.93746609 0.94979329 0.39748979 0.46088069 0.76358184]\n",
      " [0.04615725 0.74405708 0.99027086 0.08857372 0.69948735]\n",
      " [0.09321564 0.07358141 0.87928997 0.20158981 0.51360995]\n",
      " [0.87322518 0.4930085  0.32494555 0.64910216 0.6140238 ]\n",
      " [0.5325525  0.69215482 0.86849139 0.04586204 0.88927499]]\n",
      "\n",
      "shape = (5, 5)\n",
      "size = 25\n",
      "ndim = 2\n"
     ]
    }
   ],
   "source": [
    "# 1.3.6\n",
    "\n",
    "a = np.random.random((5, 5))\n",
    "print(a)\n",
    "print()\n",
    "print(f'shape = { a.shape }')\n",
    "print(f'size = { a.size }')\n",
    "print(f'ndim = { a.ndim }')"
   ],
   "metadata": {
    "collapsed": false
   }
  },
  {
   "cell_type": "code",
   "execution_count": 24,
   "outputs": [
    {
     "name": "stdout",
     "output_type": "stream",
     "text": [
      "13.416407864998739\n"
     ]
    }
   ],
   "source": [
    "# 2.3.1\n",
    "\n",
    "a = pd.Series([i for i in range(5)])\n",
    "b = pd.Series([i + 6 for i in range(5)])\n",
    "print(sum([(b[i]- a[i])**2 for i in range(len(a))])**0.5)"
   ],
   "metadata": {
    "collapsed": false
   }
  },
  {
   "cell_type": "code",
   "execution_count": 11,
   "outputs": [],
   "source": [
    "# 2.3.2\n",
    "\n",
    "url = 'https://raw.githubusercontent.com/akmand/datasets/main/vehicle.csv'\n",
    "vehicle = pd.read_csv(url)"
   ],
   "metadata": {
    "collapsed": false
   }
  },
  {
   "cell_type": "code",
   "execution_count": 12,
   "outputs": [
    {
     "data": {
      "text/plain": "    1   2   3    4   5   6    7   8   9   10   11   12   13  14  15  16   17  \\\n0  95  48  83  178  72  10  162  42  20  159  176  379  184  70   6  16  187   \n1  91  41  84  141  57   9  149  45  19  143  170  330  158  72   9  14  189   \n\n    18   19  \n0  197  van  \n1  199  van  ",
      "text/html": "<div>\n<style scoped>\n    .dataframe tbody tr th:only-of-type {\n        vertical-align: middle;\n    }\n\n    .dataframe tbody tr th {\n        vertical-align: top;\n    }\n\n    .dataframe thead th {\n        text-align: right;\n    }\n</style>\n<table border=\"1\" class=\"dataframe\">\n  <thead>\n    <tr style=\"text-align: right;\">\n      <th></th>\n      <th>1</th>\n      <th>2</th>\n      <th>3</th>\n      <th>4</th>\n      <th>5</th>\n      <th>6</th>\n      <th>7</th>\n      <th>8</th>\n      <th>9</th>\n      <th>10</th>\n      <th>11</th>\n      <th>12</th>\n      <th>13</th>\n      <th>14</th>\n      <th>15</th>\n      <th>16</th>\n      <th>17</th>\n      <th>18</th>\n      <th>19</th>\n    </tr>\n  </thead>\n  <tbody>\n    <tr>\n      <th>0</th>\n      <td>95</td>\n      <td>48</td>\n      <td>83</td>\n      <td>178</td>\n      <td>72</td>\n      <td>10</td>\n      <td>162</td>\n      <td>42</td>\n      <td>20</td>\n      <td>159</td>\n      <td>176</td>\n      <td>379</td>\n      <td>184</td>\n      <td>70</td>\n      <td>6</td>\n      <td>16</td>\n      <td>187</td>\n      <td>197</td>\n      <td>van</td>\n    </tr>\n    <tr>\n      <th>1</th>\n      <td>91</td>\n      <td>41</td>\n      <td>84</td>\n      <td>141</td>\n      <td>57</td>\n      <td>9</td>\n      <td>149</td>\n      <td>45</td>\n      <td>19</td>\n      <td>143</td>\n      <td>170</td>\n      <td>330</td>\n      <td>158</td>\n      <td>72</td>\n      <td>9</td>\n      <td>14</td>\n      <td>189</td>\n      <td>199</td>\n      <td>van</td>\n    </tr>\n  </tbody>\n</table>\n</div>"
     },
     "execution_count": 12,
     "metadata": {},
     "output_type": "execute_result"
    }
   ],
   "source": [
    "# 2.3.3\n",
    "\n",
    "vehicle.head(2)"
   ],
   "metadata": {
    "collapsed": false
   }
  },
  {
   "cell_type": "code",
   "execution_count": 13,
   "outputs": [
    {
     "data": {
      "text/plain": "       1   2    3    4   5   6    7   8   9   10   11   12   13  14  15  16  \\\n843  106  54  101  222  67  12  222  30  25  173  228  721  200  70   3   4   \n844   86  36   78  146  58   7  135  50  18  124  155  270  148  66   0  25   \n845   85  36   66  123  55   5  120  56  17  128  140  212  131  73   1  18   \n\n      17   18    19  \n843  187  201  saab  \n844  190  195  saab  \n845  186  190   van  ",
      "text/html": "<div>\n<style scoped>\n    .dataframe tbody tr th:only-of-type {\n        vertical-align: middle;\n    }\n\n    .dataframe tbody tr th {\n        vertical-align: top;\n    }\n\n    .dataframe thead th {\n        text-align: right;\n    }\n</style>\n<table border=\"1\" class=\"dataframe\">\n  <thead>\n    <tr style=\"text-align: right;\">\n      <th></th>\n      <th>1</th>\n      <th>2</th>\n      <th>3</th>\n      <th>4</th>\n      <th>5</th>\n      <th>6</th>\n      <th>7</th>\n      <th>8</th>\n      <th>9</th>\n      <th>10</th>\n      <th>11</th>\n      <th>12</th>\n      <th>13</th>\n      <th>14</th>\n      <th>15</th>\n      <th>16</th>\n      <th>17</th>\n      <th>18</th>\n      <th>19</th>\n    </tr>\n  </thead>\n  <tbody>\n    <tr>\n      <th>843</th>\n      <td>106</td>\n      <td>54</td>\n      <td>101</td>\n      <td>222</td>\n      <td>67</td>\n      <td>12</td>\n      <td>222</td>\n      <td>30</td>\n      <td>25</td>\n      <td>173</td>\n      <td>228</td>\n      <td>721</td>\n      <td>200</td>\n      <td>70</td>\n      <td>3</td>\n      <td>4</td>\n      <td>187</td>\n      <td>201</td>\n      <td>saab</td>\n    </tr>\n    <tr>\n      <th>844</th>\n      <td>86</td>\n      <td>36</td>\n      <td>78</td>\n      <td>146</td>\n      <td>58</td>\n      <td>7</td>\n      <td>135</td>\n      <td>50</td>\n      <td>18</td>\n      <td>124</td>\n      <td>155</td>\n      <td>270</td>\n      <td>148</td>\n      <td>66</td>\n      <td>0</td>\n      <td>25</td>\n      <td>190</td>\n      <td>195</td>\n      <td>saab</td>\n    </tr>\n    <tr>\n      <th>845</th>\n      <td>85</td>\n      <td>36</td>\n      <td>66</td>\n      <td>123</td>\n      <td>55</td>\n      <td>5</td>\n      <td>120</td>\n      <td>56</td>\n      <td>17</td>\n      <td>128</td>\n      <td>140</td>\n      <td>212</td>\n      <td>131</td>\n      <td>73</td>\n      <td>1</td>\n      <td>18</td>\n      <td>186</td>\n      <td>190</td>\n      <td>van</td>\n    </tr>\n  </tbody>\n</table>\n</div>"
     },
     "execution_count": 13,
     "metadata": {},
     "output_type": "execute_result"
    }
   ],
   "source": [
    "vehicle.tail(3)"
   ],
   "metadata": {
    "collapsed": false
   }
  },
  {
   "cell_type": "code",
   "execution_count": 14,
   "outputs": [
    {
     "data": {
      "text/plain": "(846, 19)"
     },
     "execution_count": 14,
     "metadata": {},
     "output_type": "execute_result"
    }
   ],
   "source": [
    "vehicle.shape"
   ],
   "metadata": {
    "collapsed": false
   }
  },
  {
   "cell_type": "code",
   "execution_count": 15,
   "outputs": [
    {
     "data": {
      "text/plain": "                1           2           3           4           5           6  \\\ncount  846.000000  846.000000  846.000000  846.000000  846.000000  846.000000   \nmean    93.678487   44.861702   82.088652  168.940898   61.693853    8.567376   \nstd      8.234474    6.169866   15.771533   33.472183    7.888251    4.601217   \nmin     73.000000   33.000000   40.000000  104.000000   47.000000    2.000000   \n25%     87.000000   40.000000   70.000000  141.000000   57.000000    7.000000   \n50%     93.000000   44.000000   80.000000  167.000000   61.000000    8.000000   \n75%    100.000000   49.000000   98.000000  195.000000   65.000000   10.000000   \nmax    119.000000   59.000000  112.000000  333.000000  138.000000   55.000000   \n\n                7           8           9          10          11  \\\ncount  846.000000  846.000000  846.000000  846.000000  846.000000   \nmean   168.839243   40.933806   20.582742  147.998818  188.625296   \nstd     33.244978    7.811560    2.592138   14.515652   31.394837   \nmin    112.000000   26.000000   17.000000  118.000000  130.000000   \n25%    146.250000   33.000000   19.000000  137.000000  167.000000   \n50%    157.000000   43.000000   20.000000  146.000000  178.500000   \n75%    198.000000   46.000000   23.000000  159.000000  217.000000   \nmax    265.000000   61.000000   29.000000  188.000000  320.000000   \n\n                12         13          14          15          16          17  \\\ncount   846.000000  846.00000  846.000000  846.000000  846.000000  846.000000   \nmean    439.911348  174.70331   72.462175    6.377069   12.599291  188.932624   \nstd     176.692614   32.54649    7.486974    4.918353    8.931240    6.163949   \nmin     184.000000  109.00000   59.000000    0.000000    0.000000  176.000000   \n25%     318.250000  149.00000   67.000000    2.000000    5.000000  184.000000   \n50%     364.000000  173.00000   71.500000    6.000000   11.000000  188.000000   \n75%     587.000000  198.00000   75.000000    9.000000   19.000000  193.000000   \nmax    1018.000000  268.00000  135.000000   22.000000   41.000000  206.000000   \n\n               18  \ncount  846.000000  \nmean   195.632388  \nstd      7.438797  \nmin    181.000000  \n25%    190.250000  \n50%    197.000000  \n75%    201.000000  \nmax    211.000000  ",
      "text/html": "<div>\n<style scoped>\n    .dataframe tbody tr th:only-of-type {\n        vertical-align: middle;\n    }\n\n    .dataframe tbody tr th {\n        vertical-align: top;\n    }\n\n    .dataframe thead th {\n        text-align: right;\n    }\n</style>\n<table border=\"1\" class=\"dataframe\">\n  <thead>\n    <tr style=\"text-align: right;\">\n      <th></th>\n      <th>1</th>\n      <th>2</th>\n      <th>3</th>\n      <th>4</th>\n      <th>5</th>\n      <th>6</th>\n      <th>7</th>\n      <th>8</th>\n      <th>9</th>\n      <th>10</th>\n      <th>11</th>\n      <th>12</th>\n      <th>13</th>\n      <th>14</th>\n      <th>15</th>\n      <th>16</th>\n      <th>17</th>\n      <th>18</th>\n    </tr>\n  </thead>\n  <tbody>\n    <tr>\n      <th>count</th>\n      <td>846.000000</td>\n      <td>846.000000</td>\n      <td>846.000000</td>\n      <td>846.000000</td>\n      <td>846.000000</td>\n      <td>846.000000</td>\n      <td>846.000000</td>\n      <td>846.000000</td>\n      <td>846.000000</td>\n      <td>846.000000</td>\n      <td>846.000000</td>\n      <td>846.000000</td>\n      <td>846.00000</td>\n      <td>846.000000</td>\n      <td>846.000000</td>\n      <td>846.000000</td>\n      <td>846.000000</td>\n      <td>846.000000</td>\n    </tr>\n    <tr>\n      <th>mean</th>\n      <td>93.678487</td>\n      <td>44.861702</td>\n      <td>82.088652</td>\n      <td>168.940898</td>\n      <td>61.693853</td>\n      <td>8.567376</td>\n      <td>168.839243</td>\n      <td>40.933806</td>\n      <td>20.582742</td>\n      <td>147.998818</td>\n      <td>188.625296</td>\n      <td>439.911348</td>\n      <td>174.70331</td>\n      <td>72.462175</td>\n      <td>6.377069</td>\n      <td>12.599291</td>\n      <td>188.932624</td>\n      <td>195.632388</td>\n    </tr>\n    <tr>\n      <th>std</th>\n      <td>8.234474</td>\n      <td>6.169866</td>\n      <td>15.771533</td>\n      <td>33.472183</td>\n      <td>7.888251</td>\n      <td>4.601217</td>\n      <td>33.244978</td>\n      <td>7.811560</td>\n      <td>2.592138</td>\n      <td>14.515652</td>\n      <td>31.394837</td>\n      <td>176.692614</td>\n      <td>32.54649</td>\n      <td>7.486974</td>\n      <td>4.918353</td>\n      <td>8.931240</td>\n      <td>6.163949</td>\n      <td>7.438797</td>\n    </tr>\n    <tr>\n      <th>min</th>\n      <td>73.000000</td>\n      <td>33.000000</td>\n      <td>40.000000</td>\n      <td>104.000000</td>\n      <td>47.000000</td>\n      <td>2.000000</td>\n      <td>112.000000</td>\n      <td>26.000000</td>\n      <td>17.000000</td>\n      <td>118.000000</td>\n      <td>130.000000</td>\n      <td>184.000000</td>\n      <td>109.00000</td>\n      <td>59.000000</td>\n      <td>0.000000</td>\n      <td>0.000000</td>\n      <td>176.000000</td>\n      <td>181.000000</td>\n    </tr>\n    <tr>\n      <th>25%</th>\n      <td>87.000000</td>\n      <td>40.000000</td>\n      <td>70.000000</td>\n      <td>141.000000</td>\n      <td>57.000000</td>\n      <td>7.000000</td>\n      <td>146.250000</td>\n      <td>33.000000</td>\n      <td>19.000000</td>\n      <td>137.000000</td>\n      <td>167.000000</td>\n      <td>318.250000</td>\n      <td>149.00000</td>\n      <td>67.000000</td>\n      <td>2.000000</td>\n      <td>5.000000</td>\n      <td>184.000000</td>\n      <td>190.250000</td>\n    </tr>\n    <tr>\n      <th>50%</th>\n      <td>93.000000</td>\n      <td>44.000000</td>\n      <td>80.000000</td>\n      <td>167.000000</td>\n      <td>61.000000</td>\n      <td>8.000000</td>\n      <td>157.000000</td>\n      <td>43.000000</td>\n      <td>20.000000</td>\n      <td>146.000000</td>\n      <td>178.500000</td>\n      <td>364.000000</td>\n      <td>173.00000</td>\n      <td>71.500000</td>\n      <td>6.000000</td>\n      <td>11.000000</td>\n      <td>188.000000</td>\n      <td>197.000000</td>\n    </tr>\n    <tr>\n      <th>75%</th>\n      <td>100.000000</td>\n      <td>49.000000</td>\n      <td>98.000000</td>\n      <td>195.000000</td>\n      <td>65.000000</td>\n      <td>10.000000</td>\n      <td>198.000000</td>\n      <td>46.000000</td>\n      <td>23.000000</td>\n      <td>159.000000</td>\n      <td>217.000000</td>\n      <td>587.000000</td>\n      <td>198.00000</td>\n      <td>75.000000</td>\n      <td>9.000000</td>\n      <td>19.000000</td>\n      <td>193.000000</td>\n      <td>201.000000</td>\n    </tr>\n    <tr>\n      <th>max</th>\n      <td>119.000000</td>\n      <td>59.000000</td>\n      <td>112.000000</td>\n      <td>333.000000</td>\n      <td>138.000000</td>\n      <td>55.000000</td>\n      <td>265.000000</td>\n      <td>61.000000</td>\n      <td>29.000000</td>\n      <td>188.000000</td>\n      <td>320.000000</td>\n      <td>1018.000000</td>\n      <td>268.00000</td>\n      <td>135.000000</td>\n      <td>22.000000</td>\n      <td>41.000000</td>\n      <td>206.000000</td>\n      <td>211.000000</td>\n    </tr>\n  </tbody>\n</table>\n</div>"
     },
     "execution_count": 15,
     "metadata": {},
     "output_type": "execute_result"
    }
   ],
   "source": [
    "vehicle.describe()"
   ],
   "metadata": {
    "collapsed": false
   }
  },
  {
   "cell_type": "code",
   "execution_count": 16,
   "outputs": [
    {
     "data": {
      "text/plain": "     1   2    3    4   5   6    7   8   9   10   11   12   13  14  15  16  \\\n1   91  41   84  141  57   9  149  45  19  143  170  330  158  72   9  14   \n2  104  50  106  209  66  10  207  32  23  158  223  635  220  73  14   9   \n3   93  41   82  159  63   9  144  46  19  143  160  309  127  63   6  10   \n\n    17   18    19  \n1  189  199   van  \n2  188  196  saab  \n3  199  207   van  ",
      "text/html": "<div>\n<style scoped>\n    .dataframe tbody tr th:only-of-type {\n        vertical-align: middle;\n    }\n\n    .dataframe tbody tr th {\n        vertical-align: top;\n    }\n\n    .dataframe thead th {\n        text-align: right;\n    }\n</style>\n<table border=\"1\" class=\"dataframe\">\n  <thead>\n    <tr style=\"text-align: right;\">\n      <th></th>\n      <th>1</th>\n      <th>2</th>\n      <th>3</th>\n      <th>4</th>\n      <th>5</th>\n      <th>6</th>\n      <th>7</th>\n      <th>8</th>\n      <th>9</th>\n      <th>10</th>\n      <th>11</th>\n      <th>12</th>\n      <th>13</th>\n      <th>14</th>\n      <th>15</th>\n      <th>16</th>\n      <th>17</th>\n      <th>18</th>\n      <th>19</th>\n    </tr>\n  </thead>\n  <tbody>\n    <tr>\n      <th>1</th>\n      <td>91</td>\n      <td>41</td>\n      <td>84</td>\n      <td>141</td>\n      <td>57</td>\n      <td>9</td>\n      <td>149</td>\n      <td>45</td>\n      <td>19</td>\n      <td>143</td>\n      <td>170</td>\n      <td>330</td>\n      <td>158</td>\n      <td>72</td>\n      <td>9</td>\n      <td>14</td>\n      <td>189</td>\n      <td>199</td>\n      <td>van</td>\n    </tr>\n    <tr>\n      <th>2</th>\n      <td>104</td>\n      <td>50</td>\n      <td>106</td>\n      <td>209</td>\n      <td>66</td>\n      <td>10</td>\n      <td>207</td>\n      <td>32</td>\n      <td>23</td>\n      <td>158</td>\n      <td>223</td>\n      <td>635</td>\n      <td>220</td>\n      <td>73</td>\n      <td>14</td>\n      <td>9</td>\n      <td>188</td>\n      <td>196</td>\n      <td>saab</td>\n    </tr>\n    <tr>\n      <th>3</th>\n      <td>93</td>\n      <td>41</td>\n      <td>82</td>\n      <td>159</td>\n      <td>63</td>\n      <td>9</td>\n      <td>144</td>\n      <td>46</td>\n      <td>19</td>\n      <td>143</td>\n      <td>160</td>\n      <td>309</td>\n      <td>127</td>\n      <td>63</td>\n      <td>6</td>\n      <td>10</td>\n      <td>199</td>\n      <td>207</td>\n      <td>van</td>\n    </tr>\n  </tbody>\n</table>\n</div>"
     },
     "execution_count": 16,
     "metadata": {},
     "output_type": "execute_result"
    }
   ],
   "source": [
    "vehicle.iloc[1:4]"
   ],
   "metadata": {
    "collapsed": false
   }
  },
  {
   "cell_type": "code",
   "execution_count": 17,
   "outputs": [
    {
     "data": {
      "text/plain": "     1   2    3    4    5   6    7   8   9   10   11   12   13   14  15  16  \\\n1   91  41   84  141   57   9  149  45  19  143  170  330  158   72   9  14   \n2  104  50  106  209   66  10  207  32  23  158  223  635  220   73  14   9   \n3   93  41   82  159   63   9  144  46  19  143  160  309  127   63   6  10   \n4   85  44   70  205  103  52  149  45  19  144  241  325  188  127   9  11   \n\n    17   18    19  \n1  189  199   van  \n2  188  196  saab  \n3  199  207   van  \n4  180  183   bus  ",
      "text/html": "<div>\n<style scoped>\n    .dataframe tbody tr th:only-of-type {\n        vertical-align: middle;\n    }\n\n    .dataframe tbody tr th {\n        vertical-align: top;\n    }\n\n    .dataframe thead th {\n        text-align: right;\n    }\n</style>\n<table border=\"1\" class=\"dataframe\">\n  <thead>\n    <tr style=\"text-align: right;\">\n      <th></th>\n      <th>1</th>\n      <th>2</th>\n      <th>3</th>\n      <th>4</th>\n      <th>5</th>\n      <th>6</th>\n      <th>7</th>\n      <th>8</th>\n      <th>9</th>\n      <th>10</th>\n      <th>11</th>\n      <th>12</th>\n      <th>13</th>\n      <th>14</th>\n      <th>15</th>\n      <th>16</th>\n      <th>17</th>\n      <th>18</th>\n      <th>19</th>\n    </tr>\n  </thead>\n  <tbody>\n    <tr>\n      <th>1</th>\n      <td>91</td>\n      <td>41</td>\n      <td>84</td>\n      <td>141</td>\n      <td>57</td>\n      <td>9</td>\n      <td>149</td>\n      <td>45</td>\n      <td>19</td>\n      <td>143</td>\n      <td>170</td>\n      <td>330</td>\n      <td>158</td>\n      <td>72</td>\n      <td>9</td>\n      <td>14</td>\n      <td>189</td>\n      <td>199</td>\n      <td>van</td>\n    </tr>\n    <tr>\n      <th>2</th>\n      <td>104</td>\n      <td>50</td>\n      <td>106</td>\n      <td>209</td>\n      <td>66</td>\n      <td>10</td>\n      <td>207</td>\n      <td>32</td>\n      <td>23</td>\n      <td>158</td>\n      <td>223</td>\n      <td>635</td>\n      <td>220</td>\n      <td>73</td>\n      <td>14</td>\n      <td>9</td>\n      <td>188</td>\n      <td>196</td>\n      <td>saab</td>\n    </tr>\n    <tr>\n      <th>3</th>\n      <td>93</td>\n      <td>41</td>\n      <td>82</td>\n      <td>159</td>\n      <td>63</td>\n      <td>9</td>\n      <td>144</td>\n      <td>46</td>\n      <td>19</td>\n      <td>143</td>\n      <td>160</td>\n      <td>309</td>\n      <td>127</td>\n      <td>63</td>\n      <td>6</td>\n      <td>10</td>\n      <td>199</td>\n      <td>207</td>\n      <td>van</td>\n    </tr>\n    <tr>\n      <th>4</th>\n      <td>85</td>\n      <td>44</td>\n      <td>70</td>\n      <td>205</td>\n      <td>103</td>\n      <td>52</td>\n      <td>149</td>\n      <td>45</td>\n      <td>19</td>\n      <td>144</td>\n      <td>241</td>\n      <td>325</td>\n      <td>188</td>\n      <td>127</td>\n      <td>9</td>\n      <td>11</td>\n      <td>180</td>\n      <td>183</td>\n      <td>bus</td>\n    </tr>\n  </tbody>\n</table>\n</div>"
     },
     "execution_count": 17,
     "metadata": {},
     "output_type": "execute_result"
    }
   ],
   "source": [
    "vehicle.loc[1:4]"
   ],
   "metadata": {
    "collapsed": false
   }
  },
  {
   "cell_type": "code",
   "execution_count": 16,
   "outputs": [],
   "source": [
    "import pandas as pd\n",
    "from sklearn import preprocessing as prepr"
   ],
   "metadata": {
    "collapsed": false
   }
  },
  {
   "cell_type": "code",
   "execution_count": 17,
   "outputs": [
    {
     "name": "stdout",
     "output_type": "stream",
     "text": [
      "   sepal_length_cm  sepal_width_cm  petal_length_cm  petal_width_cm species\n",
      "0         0.222222        1.032057              1.4             0.2  setosa\n",
      "1         0.166667       -0.124958              1.4             0.2  setosa\n",
      "2         0.111111        0.337848              1.3             0.2  setosa\n",
      "3         0.083333        0.106445              1.5             0.2  setosa\n",
      "4         0.194444        1.263460              1.4             0.2  setosa\n"
     ]
    }
   ],
   "source": [
    "# 3.3.2\n",
    "\n",
    "url = 'https://raw.githubusercontent.com/akmand/datasets/master/iris.csv'\n",
    "iris = pd.read_csv(url)\n",
    "\n",
    "minimax = prepr.MinMaxScaler(feature_range = (0,1))\n",
    "scaler = prepr.StandardScaler()\n",
    "iris[['sepal_length_cm']] = minimax.fit_transform(iris[['sepal_length_cm']])\n",
    "iris[['sepal_width_cm']] = scaler.fit_transform(iris[['sepal_width_cm']])\n",
    "print(iris.head(5))"
   ],
   "metadata": {
    "collapsed": false
   }
  }
 ],
 "metadata": {
  "kernelspec": {
   "display_name": "Python 3",
   "language": "python",
   "name": "python3"
  },
  "language_info": {
   "codemirror_mode": {
    "name": "ipython",
    "version": 2
   },
   "file_extension": ".py",
   "mimetype": "text/x-python",
   "name": "python",
   "nbconvert_exporter": "python",
   "pygments_lexer": "ipython2",
   "version": "2.7.6"
  }
 },
 "nbformat": 4,
 "nbformat_minor": 0
}

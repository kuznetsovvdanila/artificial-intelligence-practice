{
 "cells": [
  {
   "cell_type": "code",
   "execution_count": 1,
   "outputs": [],
   "source": [
    "# 2\n",
    "\n",
    "def q_z(x, y):\n",
    "    return (x - 2 * y - 3) / (x ** 2 + 3 * y ** 2 + 1)"
   ],
   "metadata": {
    "collapsed": false
   }
  },
  {
   "cell_type": "code",
   "execution_count": 342,
   "outputs": [],
   "source": [
    "def q_sum_z(Z): return sum(Z)"
   ],
   "metadata": {
    "collapsed": false
   }
  },
  {
   "cell_type": "code",
   "execution_count": 343,
   "outputs": [],
   "source": [
    "def exchange_scheme(oldX, oldY, sortedId):\n",
    "    X = [0 for i in range(4)]\n",
    "    Y = [0 for i in range(4)]\n",
    "\n",
    "    X[2] = oldX[sortedId[2]]\n",
    "    X[3] = oldX[sortedId[2]]\n",
    "\n",
    "    X[0] = oldX[sortedId[0]]\n",
    "    X[1] = oldX[sortedId[1]]\n",
    "\n",
    "    Y[0] = oldY[sortedId[2]]\n",
    "    Y[1] = oldY[sortedId[2]]\n",
    "\n",
    "    Y[2] = oldY[sortedId[0]]\n",
    "    Y[3] = oldY[sortedId[1]]\n",
    "\n",
    "    return X, Y"
   ],
   "metadata": {
    "collapsed": false
   }
  },
  {
   "cell_type": "code",
   "execution_count": 344,
   "outputs": [],
   "source": [
    "def sorting(Z):\n",
    "    sorted_id = sorted(range(len(Z)), key = lambda k: Z[k])\n",
    "\n",
    "    return sorted_id"
   ],
   "metadata": {
    "collapsed": false
   }
  },
  {
   "cell_type": "code",
   "execution_count": 345,
   "outputs": [],
   "source": [
    "def evo_step(X, Y, Z):\n",
    "    _, min_id = min((value, id) for (id, value) in enumerate(Z))\n",
    "    X = X[:]\n",
    "    Y = Y[:]\n",
    "    Z = Z[:]\n",
    "\n",
    "\n",
    "    X.pop(min_id)\n",
    "    Y.pop(min_id)\n",
    "    Z.pop(min_id)\n",
    "\n",
    "    return X, Y, Z"
   ],
   "metadata": {
    "collapsed": false
   }
  },
  {
   "cell_type": "code",
   "execution_count": 346,
   "outputs": [],
   "source": [
    "def evo_steps(X, Y, steps_num):\n",
    "    results = []\n",
    "\n",
    "    for i in range(steps_num):\n",
    "        arr_z = [q_z(x, Y[i]) for i, x in enumerate(X)]\n",
    "\n",
    "        X, Y, Z = evo_step(X, Y, arr_z)\n",
    "        X, Y = exchange_scheme(X, Y, sorting(Z))\n",
    "        results.append([X, Y, q_sum_z(arr_z), arr_z])\n",
    "\n",
    "    return X, Y, results"
   ],
   "metadata": {
    "collapsed": false
   }
  },
  {
   "cell_type": "code",
   "execution_count": 347,
   "outputs": [],
   "source": [
    "X= [-4, -2, 0, 2]\n",
    "Y = [-1, 1, 0, -2]"
   ],
   "metadata": {
    "collapsed": false
   }
  },
  {
   "cell_type": "code",
   "execution_count": 348,
   "outputs": [],
   "source": [
    "results = evo_steps(X, Y, 4)"
   ],
   "metadata": {
    "collapsed": false
   }
  },
  {
   "cell_type": "code",
   "execution_count": 349,
   "outputs": [
    {
     "name": "stdout",
     "output_type": "stream",
     "text": [
      "max_1_step: -3.948529411764706\n",
      "max_2_step: -0.41227180527383367\n",
      "max_3_step: -0.2720588235294117\n",
      "max_4_step: 0.37449290060851925\n",
      "max Z: 0.17647058823529413\n"
     ]
    }
   ],
   "source": [
    "for i in range(len(results[2])):\n",
    "    print(f'max_{ i + 1 }_step: {results[2][i][2]}')\n",
    "\n",
    "quality_arrz = []\n",
    "for i in range(len(results[2])):\n",
    "    quality_arrz += results[2][i][3]\n",
    "\n",
    "print(f'max Z: { max(quality_arrz) }')"
   ],
   "metadata": {
    "collapsed": false
   }
  },
  {
   "cell_type": "code",
   "execution_count": 350,
   "metadata": {
    "collapsed": true
   },
   "outputs": [],
   "source": [
    "# 2\n",
    "\n",
    "import networkx as nx\n",
    "from math import e"
   ]
  },
  {
   "cell_type": "code",
   "execution_count": 351,
   "outputs": [],
   "source": [
    "distances = [(1, 2, 25),\n",
    "             (1, 3, 41),\n",
    "             (1, 4, 38),\n",
    "             (1, 5, 27),\n",
    "             (1, 6, 20),\n",
    "             (2, 3, 21),\n",
    "             (2, 4, 34),\n",
    "             (2, 5, 39),\n",
    "             (2, 6, 17),\n",
    "             (3, 4, 24),\n",
    "             (3, 5, 40),\n",
    "             (3, 6, 22),\n",
    "             (4, 5, 21),\n",
    "             (4, 6, 21),\n",
    "             (5, 6, 22)]\n",
    "\n",
    "V = [1, 3, 5, 4, 6, 2, 1]\n",
    "\n",
    "Z = [(3, 4),\n",
    "     (4, 5),\n",
    "     (5, 2),\n",
    "     (6, 2)]\n",
    "\n",
    "P = [41, 60, 85, 60]\n",
    "\n",
    "T = 100"
   ],
   "metadata": {
    "collapsed": false
   }
  },
  {
   "cell_type": "code",
   "execution_count": 352,
   "outputs": [],
   "source": [
    "def probability(delta, T):\n",
    "    return 100 * e ** (-delta / T)\n",
    "\n",
    "def reduct_temp(prev_t):\n",
    "    next_t = 0.5 * prev_t\n",
    "\n",
    "    return next_t"
   ],
   "metadata": {
    "collapsed": false
   }
  },
  {
   "cell_type": "code",
   "execution_count": 353,
   "outputs": [
    {
     "data": {
      "text/plain": "<Figure size 432x288 with 1 Axes>",
      "image/png": "[encoded data removed]"
     },
     "metadata": {},
     "output_type": "display_data"
    }
   ],
   "source": [
    "graph = nx.Graph()\n",
    "graph.add_weighted_edges_from(distances)\n",
    "\n",
    "nx.draw_kamada_kawai(graph, node_color = '#fb7258', node_size = 2000, with_labels = True)"
   ],
   "metadata": {
    "collapsed": false
   }
  },
  {
   "cell_type": "code",
   "execution_count": 354,
   "outputs": [],
   "source": [
    "def edgeLength(i, j, distances, roundTrip = True):\n",
    "    if roundTrip:\n",
    "        return max([(item[2] if (item[0] == i and item[1] == j) or(item[1] == i and item[0] ==j) else -1)\n",
    "\n",
    "                             for item in distances])\n",
    "\n",
    "    else:\n",
    "        return max([(item[2] if (item[0] == i and item[1] == j) else -1) for item in distances])"
   ],
   "metadata": {
    "collapsed": false
   }
  },
  {
   "cell_type": "code",
   "execution_count": 355,
   "outputs": [],
   "source": [
    "def routeLength(V, distances):\n",
    "    edges = []\n",
    "\n",
    "    for i in range(len(V) - 1):\n",
    "        edges.append(edgeLength(V[i], V[i + 1], distances))\n",
    "\n",
    "    return sum(edges)"
   ],
   "metadata": {
    "collapsed": false
   }
  },
  {
   "cell_type": "code",
   "execution_count": 356,
   "outputs": [],
   "source": [
    "def routeOneReplacement(arrV, Z, replacementByName = True,):\n",
    "    decrement = 1 if replacementByName else 0\n",
    "\n",
    "    arrV[Z[0] - decrement], arrV[Z[1] - decrement] = arrV[Z[1] - decrement], arrV[Z[0] - decrement]\n",
    "\n",
    "    return arrV"
   ],
   "metadata": {
    "collapsed": false
   }
  },
  {
   "cell_type": "code",
   "execution_count": 357,
   "outputs": [],
   "source": [
    "def routeReplacement(V, Z):\n",
    "    for z in Z:\n",
    "        V = routeOneReplacement(V, z)\n",
    "    return V"
   ],
   "metadata": {
    "collapsed": false
   }
  },
  {
   "cell_type": "code",
   "execution_count": 358,
   "outputs": [],
   "source": [
    "def chooseRoute(distances, V, Z, T, P ):\n",
    "    sumLenght = routeLength(V, distances)\n",
    "    arrSum = [sumLenght]\n",
    "\n",
    "    for i in range(len(Z)):\n",
    "        newV = routeOneReplacement(V[:], Z[i])\n",
    "        newS = routeLength(newV, distances)\n",
    "        arrSum.append(newS)\n",
    "        deltaS = newS - sumLenght\n",
    "\n",
    "        if deltaS > 0:\n",
    "            p = probability(deltaS, T)\n",
    "\n",
    "            if p > P[i]:\n",
    "                V = newV\n",
    "                sumLenght = newS\n",
    "        else:\n",
    "            V = newV\n",
    "            sumLenght = newS\n",
    "        T = reductTemp(T)\n",
    "\n",
    "    return V, arrSum\n",
    "\n"
   ],
   "metadata": {
    "collapsed": false
   }
  },
  {
   "cell_type": "code",
   "execution_count": 359,
   "outputs": [],
   "source": [
    "def drawRouteGraph(distances, bestRoute):\n",
    "    newDistances = []\n",
    "    for i in range(len(bestRoute) - 1):\n",
    "        for distance in distances:\n",
    "            if distance[0] == bestRoute[i] and distance[1] == bestRoute[i + 1] or distance[1] ==bestRoute[i] and distance[0] ==bestRoute[i + 1]:\n",
    "                newDistances.append(distance)\n",
    "\n",
    "\n",
    "\n",
    "    graph = nx.Graph()\n",
    "\n",
    "    graph.add_weighted_edges_from(newDistances)\n",
    "    nx.draw_kamada_kawai(graph, node_color = '#fb7258', node_size = 2000, with_labels = True)"
   ],
   "metadata": {
    "collapsed": false
   }
  },
  {
   "cell_type": "code",
   "execution_count": 360,
   "outputs": [
    {
     "name": "stdout",
     "output_type": "stream",
     "text": [
      "Лучший выбранный маршрут [1, 5, 4, 6, 3, 2, 1]\n",
      "Длинна лучшего выбранного маршрута: 137\n",
      "Длины всех рассмотренных маршрутов: [165, 150, 172, 137, 169]\n"
     ]
    },
    {
     "data": {
      "text/plain": "<Figure size 432x288 with 1 Axes>",
      "image/png": "[encoded data removed]"
     },
     "metadata": {},
     "output_type": "display_data"
    }
   ],
   "source": [
    "bestRoute, arrLength = chooseRoute(distances, V, Z, T, P)\n",
    "\n",
    "print(f'Лучший выбранный маршрут {bestRoute}')\n",
    "print(f'Длинна лучшего выбранного маршрута: {routeLength(bestRoute, distances)}')\n",
    "print(f'Длины всех рассмотренных маршрутов: {arrLength}')\n",
    "\n",
    "drawRouteGraph(distances, bestRoute)"
   ],
   "metadata": {
    "collapsed": false
   }
  }
 ],
 "metadata": {
  "kernelspec": {
   "display_name": "Python 3",
   "language": "python",
   "name": "python3"
  },
  "language_info": {
   "codemirror_mode": {
    "name": "ipython",
    "version": 2
   },
   "file_extension": ".py",
   "mimetype": "text/x-python",
   "name": "python",
   "nbconvert_exporter": "python",
   "pygments_lexer": "ipython2",
   "version": "2.7.6"
  }
 },
 "nbformat": 4,
 "nbformat_minor": 0
}

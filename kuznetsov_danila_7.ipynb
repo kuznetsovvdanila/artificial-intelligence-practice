{
 "cells": [
  {
   "cell_type": "code",
   "execution_count": 1,
   "metadata": {},
   "outputs": [
    {
     "name": "stdout",
     "output_type": "stream",
     "text": [
      "0.8067238139969796\n"
     ]
    }
   ],
   "source": [
    "#1.1.1.1\n",
    "\n",
    "import numpy as np\n",
    "\n",
    "def sigmoid(x : float) -> float:\n",
    "    return 1/(1 + np.exp(-x))\n",
    "\n",
    "class Neuron:\n",
    "\n",
    "    weights : np.array\n",
    "    bias : float\n",
    "\n",
    "    def __init__(self, weights, bias):\n",
    "        self.weights = weights\n",
    "        self.bias = bias\n",
    "    def feedforward(self, inputs) -> float:\n",
    "        output = np.dot(self.weights, inputs) + self.bias\n",
    "        return sigmoid(output)\n",
    "\n",
    "class OurNeuralNetwork:\n",
    "    \n",
    "    h1 : Neuron\n",
    "    h2 : Neuron\n",
    "    h3 : Neuron\n",
    "    o1 : Neuron\n",
    "\n",
    "    def __init__(self):\n",
    "        weights = np.array([0.5, 0.5, 0.5])\n",
    "        bias = 0\n",
    "\n",
    "        self.h1 = Neuron(weights, bias)\n",
    "        self.h2 = Neuron(weights, bias)\n",
    "        self.h3 = Neuron(weights, bias)\n",
    "        self.o1 = Neuron(weights, bias)\n",
    "\n",
    "    def feedforward(self, x):\n",
    "        out_h1 = self.h1.feedforward(x)\n",
    "        out_h2 = self.h2.feedforward(x)\n",
    "        out_h3 = self.h2.feedforward(x)\n",
    "\n",
    "        out_o1 = self.o1.feedforward(np.array([out_h1, out_h2, out_h3]))\n",
    "        return out_o1\n",
    "\n",
    "network = OurNeuralNetwork()\n",
    "x = np.array([2, 3, 1])\n",
    "print(network.feedforward(x))\n"
   ]
  },
  {
   "cell_type": "code",
   "execution_count": 27,
   "metadata": {},
   "outputs": [
    {
     "name": "stdout",
     "output_type": "stream",
     "text": [
      "(0.8757270529783324, 0.8757270529783324)\n"
     ]
    }
   ],
   "source": [
    "#1.1.1.2\n",
    "\n",
    "import numpy as np\n",
    "\n",
    "def sigmoid(x : float) -> float:\n",
    "    return 1/(1 + np.exp(-x))\n",
    "\n",
    "class OurNeuralNetwork:\n",
    "    \n",
    "    h1 : Neuron\n",
    "    h2 : Neuron\n",
    "    o1 : Neuron\n",
    "    o2 : Neuron\n",
    "\n",
    "    def __init__(self):\n",
    "        weights = np.array([1, 0])\n",
    "        bias = 1\n",
    "\n",
    "        self.h1 = Neuron(weights, bias)\n",
    "        self.h2 = Neuron(weights, bias)\n",
    "        self.o1 = Neuron(weights, bias)\n",
    "        self.o2 = Neuron(weights, bias)\n",
    "\n",
    "    def feedforward(self, x):\n",
    "        out_h1 = self.h1.feedforward(x)\n",
    "        out_h2 = self.h2.feedforward(x)\n",
    "\n",
    "        out_o1 = self.o1.feedforward(np.array([out_h1, out_h2]))\n",
    "        out_o2 = self.o1.feedforward(np.array([out_h1, out_h2]))\n",
    "        return out_o1, out_o2\n",
    "\n",
    "network = OurNeuralNetwork()\n",
    "x = np.array([2, 3])\n",
    "print(network.feedforward(x))"
   ]
  },
  {
   "cell_type": "code",
   "execution_count": 25,
   "metadata": {},
   "outputs": [
    {
     "name": "stdout",
     "output_type": "stream",
     "text": [
      "(0.9636765235959711, 0.9636765235959711)\n"
     ]
    }
   ],
   "source": [
    "#1.1.2.1\n",
    "\n",
    "def tanh(x):\n",
    "    return np.tanh(x)\n",
    "\n",
    "class Neuron:\n",
    "\n",
    "    weights : np.array\n",
    "    bias : float\n",
    "\n",
    "    def __init__(self, weights, bias):\n",
    "        self.weights = weights\n",
    "        self.bias = bias\n",
    "    def feedforward(self, inputs) -> float:\n",
    "        output = np.dot(self.weights, inputs) + self.bias\n",
    "        return tanh(output)\n",
    "\n",
    "network = OurNeuralNetwork()\n",
    "x = np.array([2, 3])\n",
    "print(network.feedforward(x))"
   ]
  },
  {
   "cell_type": "code",
   "execution_count": 28,
   "metadata": {},
   "outputs": [
    {
     "name": "stdout",
     "output_type": "stream",
     "text": [
      "(4, 4)\n"
     ]
    }
   ],
   "source": [
    "#1.1.2.2\n",
    "\n",
    "def relu(x):\n",
    "    if x < 0: \n",
    "        return 0\n",
    "    else:\n",
    "        return x\n",
    "\n",
    "class Neuron:\n",
    "\n",
    "    weights : np.array\n",
    "    bias : float\n",
    "\n",
    "    def __init__(self, weights, bias):\n",
    "        self.weights = weights\n",
    "        self.bias = bias\n",
    "    def feedforward(self, inputs) -> float:\n",
    "        output = np.dot(self.weights, inputs) + self.bias\n",
    "        return relu(output)\n",
    "\n",
    "network = OurNeuralNetwork()\n",
    "x = np.array([2, 3])\n",
    "print(network.feedforward(x))"
   ]
  },
  {
   "cell_type": "code",
   "execution_count": 75,
   "metadata": {},
   "outputs": [
    {
     "name": "stdout",
     "output_type": "stream",
     "text": [
      "Dataset Sizes :  (150, 4) (150,)\n",
      "['Virginica' 'Virginica' 'Versicolor' 'Virginica' 'Setosa' 'Setosa'\n",
      " 'Versicolor' 'Virginica' 'Virginica' 'Setosa' 'Virginica' 'Setosa'\n",
      " 'Virginica' 'Versicolor' 'Versicolor']\n",
      "['Virginica' 'Virginica' 'Versicolor' 'Virginica' 'Setosa' 'Setosa'\n",
      " 'Versicolor' 'Virginica' 'Virginica' 'Setosa' 'Virginica' 'Setosa'\n",
      " 'Virginica' 'Versicolor' 'Versicolor']\n",
      "Test Accuracy : 0.967\n",
      "Training Accuracy : 1.000\n",
      "[[10  0  0]\n",
      " [ 0  9  1]\n",
      " [ 0  0 10]]\n",
      "Loss :  0.011226155153042023\n",
      "Number of Coefs :  4\n",
      "Number of Intercepts :  4\n",
      "Number of Iterations for Which Estimator Ran :  308\n",
      "Name of Output Layer Activation Function :  softmax\n"
     ]
    }
   ],
   "source": [
    "# 1.2.1\n",
    "\n",
    "import numpy as np\n",
    "import pandas as pd\n",
    "\n",
    "csv_file = pd.read_csv('https://gist.githubusercontent.com/netj/8836201/raw/6f9306ad21398ea43cba4f7d537619d0e07d5ae3/iris.csv')\n",
    "csv_file.shape\n",
    "digits = csv_file.to_numpy()\n",
    "x_digits, y_digits = np.array([[float(i) for i in data if i != data[-1]] for data in digits]), np.array([data[-1] for data in digits])\n",
    "print('Dataset Sizes : ', x_digits.shape, y_digits.shape)\n",
    "\n",
    "from sklearn.model_selection import train_test_split\n",
    "\n",
    "random_state = 95\n",
    "\n",
    "x_train, x_test, y_train, y_test = train_test_split(x_digits, y_digits,\n",
    "train_size=0.80, test_size=0.20, stratify=Y_digits, random_state=random_state)\n",
    "\n",
    "from sklearn.neural_network import MLPClassifier\n",
    "\n",
    "mlp_classifier = MLPClassifier(random_state=random_state, max_iter=400, hidden_layer_sizes=(160, 80, 40, ))\n",
    "mlp_classifier.fit(x_train, y_train)\n",
    "\n",
    "y_preds = mlp_classifier.predict(x_test)\n",
    "\n",
    "print(y_preds[:15])\n",
    "\n",
    "print(y_test[:15])\n",
    "\n",
    "print('Test Accuracy : %.3f'%mlp_classifier.score(x_test, y_test))\n",
    "\n",
    "print('Training Accuracy : %.3f'%mlp_classifier.score(x_train, y_train))\n",
    "\n",
    "from sklearn.metrics import confusion_matrix\n",
    "import matplotlib.pyplot as plt\n",
    "\n",
    "conf_mat = confusion_matrix(y_test, y_preds)\n",
    "print(conf_mat)\n",
    "\n",
    "print(\"Loss : \", mlp_classifier.loss_)\n",
    "print(\"Number of Coefs : \", len(mlp_classifier.coefs_))\n",
    "print(\"Number of Intercepts : \", len(mlp_classifier.intercepts_))\n",
    "print(\"Number of Iterations for Which Estimator Ran : \", mlp_classifier.n_iter_)\n",
    "print(\"Name of Output Layer Activation Function : \", mlp_classifier.out_activation_)"
   ]
  },
  {
   "cell_type": "code",
   "execution_count": 76,
   "metadata": {},
   "outputs": [
    {
     "name": "stdout",
     "output_type": "stream",
     "text": [
      "Dataset Sizes :  (30, 1) (30,)\n",
      "[ 50570.93568673 133554.81759904  47160.65137704 122186.90619014\n",
      "  50570.93568673 123323.66762671]\n",
      "[ 54445. 121872.  56642. 116969.  64445. 112635.]\n",
      "Test Accuracy : 0.891\n",
      "Training Accuracy : 0.917\n",
      "Loss :  26692614.428927224\n",
      "Number of Coefs :  2\n",
      "Number of Intercepts :  2\n",
      "Number of Iterations for Which Estimator Ran :  20000\n",
      "Name of Output Layer Activation Function :  identity\n"
     ]
    },
    {
     "name": "stderr",
     "output_type": "stream",
     "text": [
      "c:\\Users\\TEMP.LAPTOP-989782I0.002\\AppData\\Local\\Programs\\Python\\Python38\\lib\\site-packages\\sklearn\\neural_network\\_multilayer_perceptron.py:702: ConvergenceWarning: Stochastic Optimizer: Maximum iterations (20000) reached and the optimization hasn't converged yet.\n",
      "  warnings.warn(\n"
     ]
    }
   ],
   "source": [
    "# 1.2.1\n",
    "\n",
    "import numpy as np\n",
    "import pandas as pd\n",
    "\n",
    "csv_file = pd.read_csv('https://raw.githubusercontent.com/AnnaShestova/salary-years-simple-linear-regression/master/Salary_Data.csv')\n",
    "csv_file.shape\n",
    "digits = csv_file.to_numpy()\n",
    "x_digits, y_digits = np.array([[float(i) for i in data if i != data[-1]] for data in digits]), np.array([float(data[-1]) for data in digits])\n",
    "print('Dataset Sizes : ', x_digits.shape, y_digits.shape)\n",
    "\n",
    "from sklearn.model_selection import train_test_split\n",
    "\n",
    "random_state = 123\n",
    "\n",
    "x_train, x_test, y_train, y_test = train_test_split(x_digits, y_digits,\n",
    "train_size=0.80, test_size=0.20, random_state=random_state)\n",
    "\n",
    "from sklearn.neural_network import MLPRegressor\n",
    "\n",
    "mlp_regressor = MLPRegressor(random_state=random_state, max_iter=20000)\n",
    "mlp_regressor.fit(x_train, y_train)\n",
    "\n",
    "y_preds = mlp_regressor.predict(x_test)\n",
    "\n",
    "print(Y_preds[:10])\n",
    "\n",
    "print(Y_test[:10])\n",
    "\n",
    "print('Test Accuracy : %.3f'%mlp_regressor.score(x_test, y_test))\n",
    "\n",
    "print('Training Accuracy : %.3f'%mlp_regressor.score(x_train, y_train))\n",
    "\n",
    "print(\"Loss : \", mlp_regressor.loss_)\n",
    "print(\"Number of Coefs : \", len(mlp_regressor.coefs_))\n",
    "print(\"Number of Intercepts : \", len(mlp_regressor.intercepts_))\n",
    "print(\"Number of Iterations for Which Estimator Ran : \", mlp_regressor.n_iter_)\n",
    "print(\"Name of Output Layer Activation Function : \", mlp_regressor.out_activation_)"
   ]
  }
 ],
 "metadata": {
  "kernelspec": {
   "display_name": "Python 3.8.0 64-bit",
   "language": "python",
   "name": "python3"
  },
  "language_info": {
   "codemirror_mode": {
    "name": "ipython",
    "version": 3
   },
   "file_extension": ".py",
   "mimetype": "text/x-python",
   "name": "python",
   "nbconvert_exporter": "python",
   "pygments_lexer": "ipython3",
   "version": "3.8.0"
  },
  "orig_nbformat": 4,
  "vscode": {
   "interpreter": {
    "hash": "64c97c98be7771c3b02b3537fdc67c0874dacaf240e27968000b5a154289d74f"
   }
  }
 },
 "nbformat": 4,
 "nbformat_minor": 2
}
